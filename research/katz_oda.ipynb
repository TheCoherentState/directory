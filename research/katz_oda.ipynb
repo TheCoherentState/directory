{
 "cells": [
  {
   "cell_type": "markdown",
   "id": "8c04746c-c10f-4b32-8742-34e2c0b9bc00",
   "metadata": {},
   "source": [
    "# Schlesinger system reduction mod $p$"
   ]
  },
  {
   "cell_type": "code",
   "execution_count": 8,
   "id": "7e3dba45-c3dc-4a40-9693-1785d40a82fb",
   "metadata": {},
   "outputs": [],
   "source": [
    "import numpy as np\n",
    "import sympy"
   ]
  },
  {
   "cell_type": "markdown",
   "id": "689e8c71-4e0d-4315-a1b6-094566fb87b9",
   "metadata": {},
   "source": [
    "We will begin by attempting to construct the vector of rational functions given by $O_n(z) y_p(z)$, for a fixed $n$, but having $p = (p_1, \\dots, p_m)$ as free parameters. See the notes for the meaning of these expressions."
   ]
  },
  {
   "cell_type": "code",
   "execution_count": 130,
   "id": "fc5551cd-dd73-4d58-888d-e7a47ef33275",
   "metadata": {},
   "outputs": [],
   "source": [
    "n = 3 # Power to which we are raising the Picard-Fuchs differential operator\n",
    "m = 2 # Dimension of the m \\times m matrices in the Picard-Fuchs operator\n",
    "\n",
    "# Matrices with integer entries\n",
    "matrices = [\n",
    "    sympy.Matrix([[1, 1], [1, 1]]),\n",
    "    sympy.Matrix([[1, 2], [4, -1]])\n",
    "]\n",
    "\n",
    "# (a_j, b_j) integer pairs\n",
    "a = [1, 2]\n",
    "b = [2, -1]\n",
    "\n",
    "# Creates the symbols corresponding to the p_j, and z\n",
    "p = sympy.symbols(\" \".join([\"p_{}\".format(j+1) for j in range(m)]), integer=True)\n",
    "z = sympy.Symbol(\"z\")\n",
    "\n",
    "# Creates y_p(z)\n",
    "y = sympy.Matrix([z ** p_j for p_j in p])\n",
    "\n",
    "# Creates A(z)\n",
    "A = None\n",
    "\n",
    "for j, M in enumerate(matrices):\n",
    "    M_prime = (1/(a[j] * z + b[j])) * M\n",
    "    if A is None:\n",
    "        A = M_prime\n",
    "    else:\n",
    "        A = A + M_prime\n",
    "\n",
    "sympy.cancel(A, z)\n",
    "\n",
    "# Creates the differential operator d/dz - A(z)\n",
    "def D_op(y):\n",
    "    expr = sympy.cancel(sympy.diff(y, z) - A @ y, z)\n",
    "    return expr\n",
    "\n",
    "# Creates O_n\n",
    "def O(n):\n",
    "    def fn(z):\n",
    "        for _ in range(n):\n",
    "            z = D_op(z)\n",
    "        return z\n",
    "    return fn\n",
    "\n",
    "O_n = O(n)"
   ]
  },
  {
   "cell_type": "code",
   "execution_count": 138,
   "id": "099a0866-bdd0-4ee5-945b-c2cf3ce8c73a",
   "metadata": {},
   "outputs": [],
   "source": [
    "# From here, we can iterate D_op\n",
    "R = O_n(y)"
   ]
  },
  {
   "cell_type": "code",
   "execution_count": 139,
   "id": "6ce3f58b-6916-49db-b245-5025f5d027f3",
   "metadata": {},
   "outputs": [
    {
     "data": {
      "text/latex": [
       "$\\displaystyle \\left[\\begin{matrix}\\frac{8 p_{1}^{3} z^{6} z^{p_{1}} + 36 p_{1}^{3} z^{5} z^{p_{1}} + 30 p_{1}^{3} z^{4} z^{p_{1}} - 45 p_{1}^{3} z^{3} z^{p_{1}} - 30 p_{1}^{3} z^{2} z^{p_{1}} + 36 p_{1}^{3} z z^{p_{1}} - 8 p_{1}^{3} z^{p_{1}} - 60 p_{1}^{2} z^{6} z^{p_{1}} - 228 p_{1}^{2} z^{5} z^{p_{1}} - 135 p_{1}^{2} z^{4} z^{p_{1}} + 240 p_{1}^{2} z^{3} z^{p_{1}} + 90 p_{1}^{2} z^{2} z^{p_{1}} - 120 p_{1}^{2} z z^{p_{1}} + 24 p_{1}^{2} z^{p_{1}} + 286 p_{1} z^{6} z^{p_{1}} + 879 p_{1} z^{5} z^{p_{1}} + 561 p_{1} z^{4} z^{p_{1}} - 252 p_{1} z^{3} z^{p_{1}} - 246 p_{1} z^{2} z^{p_{1}} + 84 p_{1} z z^{p_{1}} - 16 p_{1} z^{p_{1}} - 48 p_{2}^{2} z^{6} z^{p_{2}} - 180 p_{2}^{2} z^{5} z^{p_{2}} - 120 p_{2}^{2} z^{4} z^{p_{2}} + 135 p_{2}^{2} z^{3} z^{p_{2}} + 60 p_{2}^{2} z^{2} z^{p_{2}} - 36 p_{2}^{2} z z^{p_{2}} + 192 p_{2} z^{6} z^{p_{2}} + 492 p_{2} z^{5} z^{p_{2}} + 186 p_{2} z^{4} z^{p_{2}} - 132 p_{2} z^{3} z^{p_{2}} - 126 p_{2} z^{2} z^{p_{2}} + 36 p_{2} z z^{p_{2}} - 417 z^{6} z^{p_{1}} - 276 z^{6} z^{p_{2}} - 827 z^{5} z^{p_{1}} - 361 z^{5} z^{p_{2}} - 929 z^{4} z^{p_{1}} - 457 z^{4} z^{p_{2}} - 386 z^{3} z^{p_{1}} - 178 z^{3} z^{p_{2}}}{8 z^{9} + 36 z^{8} + 30 z^{7} - 45 z^{6} - 30 z^{5} + 36 z^{4} - 8 z^{3}}\\\\\\frac{- 72 p_{1}^{2} z^{6} z^{p_{1}} - 300 p_{1}^{2} z^{5} z^{p_{1}} - 270 p_{1}^{2} z^{4} z^{p_{1}} + 195 p_{1}^{2} z^{3} z^{p_{1}} + 180 p_{1}^{2} z^{2} z^{p_{1}} - 84 p_{1}^{2} z z^{p_{1}} + 288 p_{1} z^{6} z^{p_{1}} + 888 p_{1} z^{5} z^{p_{1}} + 564 p_{1} z^{4} z^{p_{1}} - 288 p_{1} z^{3} z^{p_{1}} - 294 p_{1} z^{2} z^{p_{1}} + 84 p_{1} z z^{p_{1}} + 8 p_{2}^{3} z^{6} z^{p_{2}} + 36 p_{2}^{3} z^{5} z^{p_{2}} + 30 p_{2}^{3} z^{4} z^{p_{2}} - 45 p_{2}^{3} z^{3} z^{p_{2}} - 30 p_{2}^{3} z^{2} z^{p_{2}} + 36 p_{2}^{3} z z^{p_{2}} - 8 p_{2}^{3} z^{p_{2}} - 36 p_{2}^{2} z^{6} z^{p_{2}} - 108 p_{2}^{2} z^{5} z^{p_{2}} + 15 p_{2}^{2} z^{4} z^{p_{2}} + 180 p_{2}^{2} z^{3} z^{p_{2}} - 30 p_{2}^{2} z^{2} z^{p_{2}} - 72 p_{2}^{2} z z^{p_{2}} + 24 p_{2}^{2} z^{p_{2}} + 190 p_{2} z^{6} z^{p_{2}} + 483 p_{2} z^{5} z^{p_{2}} + 183 p_{2} z^{4} z^{p_{2}} - 96 p_{2} z^{3} z^{p_{2}} - 78 p_{2} z^{2} z^{p_{2}} + 36 p_{2} z z^{p_{2}} - 16 p_{2} z^{p_{2}} - 414 z^{6} z^{p_{1}} - 279 z^{6} z^{p_{2}} - 809 z^{5} z^{p_{1}} - 379 z^{5} z^{p_{2}} - 893 z^{4} z^{p_{1}} - 493 z^{4} z^{p_{2}} - 362 z^{3} z^{p_{1}} - 202 z^{3} z^{p_{2}}}{8 z^{9} + 36 z^{8} + 30 z^{7} - 45 z^{6} - 30 z^{5} + 36 z^{4} - 8 z^{3}}\\end{matrix}\\right]$"
      ],
      "text/plain": [
       "Matrix([\n",
       "[(8*p_1**3*z**6*z**p_1 + 36*p_1**3*z**5*z**p_1 + 30*p_1**3*z**4*z**p_1 - 45*p_1**3*z**3*z**p_1 - 30*p_1**3*z**2*z**p_1 + 36*p_1**3*z*z**p_1 - 8*p_1**3*z**p_1 - 60*p_1**2*z**6*z**p_1 - 228*p_1**2*z**5*z**p_1 - 135*p_1**2*z**4*z**p_1 + 240*p_1**2*z**3*z**p_1 + 90*p_1**2*z**2*z**p_1 - 120*p_1**2*z*z**p_1 + 24*p_1**2*z**p_1 + 286*p_1*z**6*z**p_1 + 879*p_1*z**5*z**p_1 + 561*p_1*z**4*z**p_1 - 252*p_1*z**3*z**p_1 - 246*p_1*z**2*z**p_1 + 84*p_1*z*z**p_1 - 16*p_1*z**p_1 - 48*p_2**2*z**6*z**p_2 - 180*p_2**2*z**5*z**p_2 - 120*p_2**2*z**4*z**p_2 + 135*p_2**2*z**3*z**p_2 + 60*p_2**2*z**2*z**p_2 - 36*p_2**2*z*z**p_2 + 192*p_2*z**6*z**p_2 + 492*p_2*z**5*z**p_2 + 186*p_2*z**4*z**p_2 - 132*p_2*z**3*z**p_2 - 126*p_2*z**2*z**p_2 + 36*p_2*z*z**p_2 - 417*z**6*z**p_1 - 276*z**6*z**p_2 - 827*z**5*z**p_1 - 361*z**5*z**p_2 - 929*z**4*z**p_1 - 457*z**4*z**p_2 - 386*z**3*z**p_1 - 178*z**3*z**p_2)/(8*z**9 + 36*z**8 + 30*z**7 - 45*z**6 - 30*z**5 + 36*z**4 - 8*z**3)],\n",
       "[  (-72*p_1**2*z**6*z**p_1 - 300*p_1**2*z**5*z**p_1 - 270*p_1**2*z**4*z**p_1 + 195*p_1**2*z**3*z**p_1 + 180*p_1**2*z**2*z**p_1 - 84*p_1**2*z*z**p_1 + 288*p_1*z**6*z**p_1 + 888*p_1*z**5*z**p_1 + 564*p_1*z**4*z**p_1 - 288*p_1*z**3*z**p_1 - 294*p_1*z**2*z**p_1 + 84*p_1*z*z**p_1 + 8*p_2**3*z**6*z**p_2 + 36*p_2**3*z**5*z**p_2 + 30*p_2**3*z**4*z**p_2 - 45*p_2**3*z**3*z**p_2 - 30*p_2**3*z**2*z**p_2 + 36*p_2**3*z*z**p_2 - 8*p_2**3*z**p_2 - 36*p_2**2*z**6*z**p_2 - 108*p_2**2*z**5*z**p_2 + 15*p_2**2*z**4*z**p_2 + 180*p_2**2*z**3*z**p_2 - 30*p_2**2*z**2*z**p_2 - 72*p_2**2*z*z**p_2 + 24*p_2**2*z**p_2 + 190*p_2*z**6*z**p_2 + 483*p_2*z**5*z**p_2 + 183*p_2*z**4*z**p_2 - 96*p_2*z**3*z**p_2 - 78*p_2*z**2*z**p_2 + 36*p_2*z*z**p_2 - 16*p_2*z**p_2 - 414*z**6*z**p_1 - 279*z**6*z**p_2 - 809*z**5*z**p_1 - 379*z**5*z**p_2 - 893*z**4*z**p_1 - 493*z**4*z**p_2 - 362*z**3*z**p_1 - 202*z**3*z**p_2)/(8*z**9 + 36*z**8 + 30*z**7 - 45*z**6 - 30*z**5 + 36*z**4 - 8*z**3)]])"
      ]
     },
     "execution_count": 139,
     "metadata": {},
     "output_type": "execute_result"
    }
   ],
   "source": [
    "R"
   ]
  },
  {
   "cell_type": "code",
   "execution_count": 152,
   "id": "6cbe9ced-a202-4573-9357-a0ca588a2220",
   "metadata": {},
   "outputs": [],
   "source": [
    "# We can then simplify and extract the numerator and denominator of each entry\n",
    "num_list, denom_list = [], []\n",
    "\n",
    "for v in range(m):\n",
    "    # We will record the \"coefficient\" of each z^{p_j}, in the numerators\n",
    "    p_j_num_list, p_j_denom_list = [], []\n",
    "    for j in range(m):\n",
    "        p_j_num_list.append(sympy.collect(sympy.numer(R[v]).coeff(z ** p[j]), z))\n",
    "    denom_list.append(sympy.collect(sympy.denom(R[v]), z))\n",
    "    \n",
    "    num_list.append(p_j_num_list)\n",
    "    denom_list.append(p_j_denom_list)"
   ]
  },
  {
   "cell_type": "markdown",
   "id": "bf8d3f2c-22fc-4146-96d8-2e07ed60f9db",
   "metadata": {},
   "source": [
    "We now need to check that each of the corresponding polynomials of the $p_j$ are $0 \\ \\text{mod} \\ p$. These polynomials will look like this, for example:"
   ]
  },
  {
   "cell_type": "code",
   "execution_count": 157,
   "id": "b70a6a47-3e69-429e-bb20-e5d5e44b7738",
   "metadata": {},
   "outputs": [
    {
     "data": {
      "text/latex": [
       "$\\displaystyle - 8 p_{1}^{3} + 24 p_{1}^{2} - 16 p_{1} + z^{6} \\left(8 p_{1}^{3} - 60 p_{1}^{2} + 286 p_{1} - 417\\right) + z^{5} \\left(36 p_{1}^{3} - 228 p_{1}^{2} + 879 p_{1} - 827\\right) + z^{4} \\left(30 p_{1}^{3} - 135 p_{1}^{2} + 561 p_{1} - 929\\right) + z^{3} \\left(- 45 p_{1}^{3} + 240 p_{1}^{2} - 252 p_{1} - 386\\right) + z^{2} \\left(- 30 p_{1}^{3} + 90 p_{1}^{2} - 246 p_{1}\\right) + z \\left(36 p_{1}^{3} - 120 p_{1}^{2} + 84 p_{1}\\right)$"
      ],
      "text/plain": [
       "-8*p_1**3 + 24*p_1**2 - 16*p_1 + z**6*(8*p_1**3 - 60*p_1**2 + 286*p_1 - 417) + z**5*(36*p_1**3 - 228*p_1**2 + 879*p_1 - 827) + z**4*(30*p_1**3 - 135*p_1**2 + 561*p_1 - 929) + z**3*(-45*p_1**3 + 240*p_1**2 - 252*p_1 - 386) + z**2*(-30*p_1**3 + 90*p_1**2 - 246*p_1) + z*(36*p_1**3 - 120*p_1**2 + 84*p_1)"
      ]
     },
     "execution_count": 157,
     "metadata": {},
     "output_type": "execute_result"
    }
   ],
   "source": [
    "num_list[0][0]"
   ]
  },
  {
   "cell_type": "markdown",
   "id": "b2a0afc3-dd3d-47c5-a58d-859d134283e4",
   "metadata": {},
   "source": [
    "In particular, each power of $z$ corresponds to a different polynomial in $p_1$ or $p_2$"
   ]
  },
  {
   "cell_type": "markdown",
   "id": "efaa2545-b28e-47b4-bddf-6ab9675017b2",
   "metadata": {},
   "source": [
    "It seems like there is an easy way to do this: https://math.stackexchange.com/questions/4672283/polynomials-that-are-zero-as-functions-on-finite-fields"
   ]
  }
 ],
 "metadata": {
  "kernelspec": {
   "display_name": "Python 3 (ipykernel)",
   "language": "python",
   "name": "python3"
  },
  "language_info": {
   "codemirror_mode": {
    "name": "ipython",
    "version": 3
   },
   "file_extension": ".py",
   "mimetype": "text/x-python",
   "name": "python",
   "nbconvert_exporter": "python",
   "pygments_lexer": "ipython3",
   "version": "3.8.10"
  }
 },
 "nbformat": 4,
 "nbformat_minor": 5
}
